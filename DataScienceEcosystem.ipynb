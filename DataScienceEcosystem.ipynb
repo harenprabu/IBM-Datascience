{
 "cells": [
  {
   "cell_type": "markdown",
   "id": "a3f4c2ea-27b9-44f3-a779-6b43ecf4b74d",
   "metadata": {},
   "source": [
    "# Data Science Tools and Ecosystem"
   ]
  },
  {
   "cell_type": "markdown",
   "id": "95496afc-46a5-4dde-9356-94a043d389bc",
   "metadata": {},
   "source": [
    "In this notebook, Data Science Tools and Ecosystem are summarized."
   ]
  },
  {
   "cell_type": "markdown",
   "id": "1833eb28-786b-46fc-b922-dfc917c5aa94",
   "metadata": {},
   "source": [
    "Objectives:<ul>\n",
    "  <li>Create a Jupyter Notebook</li>\n",
    "  <li>Insert code and markdown cells</li>\n",
    "  <li>Share your notebook through GitHub</li>\n",
    "      <li>How to create table in markdown</li>\n",
    "</ul>\n"
   ]
  },
  {
   "cell_type": "markdown",
   "id": "c0cba735-9dc1-423a-95cd-caedaf82b43f",
   "metadata": {},
   "source": [
    "Some of the popular languages that Data Scientists use are:\n",
    "1.Python\n",
    "2.R\n",
    "3.SQL\n"
   ]
  },
  {
   "cell_type": "markdown",
   "id": "ab92cd92-6d43-417d-8731-cf1f60fcbae1",
   "metadata": {},
   "source": [
    "Some of the commonly used libraries used by Data Scientists include:\n",
    "1.Numpy 2.Seaborn 3.pandas"
   ]
  },
  {
   "cell_type": "markdown",
   "id": "a81ee103-cb51-48de-9a1e-92df585ae129",
   "metadata": {},
   "source": [
    "|Data Science Tools|\n",
    "|------------------|\n",
    "|Jupterlab|\n",
    "|R|\n",
    "|Python|"
   ]
  },
  {
   "cell_type": "markdown",
   "id": "3fcb266b-3854-482d-9b98-e62301552b97",
   "metadata": {},
   "source": [
    "### Below are a few examples of evaluating arithmetic expressions in Python"
   ]
  },
  {
   "cell_type": "code",
   "execution_count": 1,
   "id": "5acf83fa-9086-42bb-9dcd-e221e2ef9074",
   "metadata": {
    "tags": []
   },
   "outputs": [
    {
     "data": {
      "text/plain": [
       "17"
      ]
     },
     "execution_count": 1,
     "metadata": {},
     "output_type": "execute_result"
    }
   ],
   "source": [
    " #This a simple arithmetic expression to mutiply then add integers\n",
    "    \n",
    "(3*4)+5"
   ]
  },
  {
   "cell_type": "code",
   "execution_count": 2,
   "id": "640b7ea3-b762-4252-a83f-c92c1a140046",
   "metadata": {
    "tags": []
   },
   "outputs": [
    {
     "data": {
      "text/plain": [
       "3.3333333333333335"
      ]
     },
     "execution_count": 2,
     "metadata": {},
     "output_type": "execute_result"
    }
   ],
   "source": [
    "#This will convert 200 minutes to hours by diving by 60\n",
    "200/60"
   ]
  },
  {
   "cell_type": "markdown",
   "id": "e1aa824a-0fa0-4761-9482-27f405e24a27",
   "metadata": {},
   "source": [
    "## Author \n",
    "Haren prabu M"
   ]
  },
  {
   "cell_type": "code",
   "execution_count": null,
   "id": "93c4d4af-50ad-47c0-b452-ea5063caaf53",
   "metadata": {},
   "outputs": [],
   "source": []
  }
 ],
 "metadata": {
  "kernelspec": {
   "display_name": "Python",
   "language": "python",
   "name": "conda-env-python-py"
  },
  "language_info": {
   "codemirror_mode": {
    "name": "ipython",
    "version": 3
   },
   "file_extension": ".py",
   "mimetype": "text/x-python",
   "name": "python",
   "nbconvert_exporter": "python",
   "pygments_lexer": "ipython3",
   "version": "3.7.12"
  }
 },
 "nbformat": 4,
 "nbformat_minor": 5
}
